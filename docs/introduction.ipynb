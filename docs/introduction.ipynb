{
 "cells": [
  {
   "cell_type": "markdown",
   "metadata": {},
   "source": [
    "# 神经网络解偏微分方程"
   ]
  },
  {
   "cell_type": "markdown",
   "metadata": {},
   "source": [
    "## 一. 介绍\n",
    "偏微分方程数值解法按是否进行网格划分可以分为两类：\n",
    "1. 基于网格的方法包括有限差分、有限元、有限体等方法,这些方法需要用网格划分偏微分方程的定义域，网格越细得到的解越精确，然而越细的网格需要更高的计算代价和更大的存储空间。\n",
    "2. 无网格主要是蒙特卡洛方法，使用Feynman-Kac公式将偏微分方程中的待求函数表示成随机过程中随机变量的数学期望，再通过蒙特卡洛求期望的办法求解偏微分方程。蒙特卡洛法的收敛性依赖于空间中采样的点的个数，采样的点越多，我们能得到越精确的解。但采样点越多，计算时间越长、存储空间越大，在高维情况下需要很大的计算量。\n",
    "\n",
    "最近基于神经网络的方法求解偏微分方程得到学术界关注。使用神经网络来表示偏微分方程中的待求函数，通过学习神经网络的参数来求得偏微分方程的近似解。"
   ]
  },
  {
   "cell_type": "markdown",
   "metadata": {},
   "source": [
    "## 二、DGM方法\n",
    "神经网络就是一个函数族$\\{u_\\theta\\}$，DGM认为偏微分方程的解函数$f$可以用函数族中的某个函数近似$u_\\theta^*$。考虑如下形式的偏微分方程：\n",
    "\n",
    "$$\\begin{align}\n",
    "& \\frac{\\partial u(t, x) }{\\partial t} + F[u(t, x)] = 0 \\ (t, x)\\in [0, T]\\times  \\Omega\\\\\n",
    "& u(0, x)  = u_0(x), \\ x\\in \\Omega \\\\\n",
    "& u(t, x) = g(t, x), \\ (t, x)\\in [0, T]\\times \\partial \\Omega\n",
    "\\end{align}$$"
   ]
  },
  {
   "cell_type": "markdown",
   "metadata": {},
   "source": [
    "求解偏微分方程，除偏微分方程形式外，还需要知道初始条件$ \\ u_0(x)$和边界条件$ \\ u(t, x), \\ x\\in \\partial \\Omega$。定义神经网络**期望损失函数**(expected loss function)如下\n",
    "\n",
    "$$\\begin{aligned}\n",
    "J(\\theta) = & \\mathbb{E}_{t, x \\sim {U_{[0, T]\\times \\Omega}}}[||\\frac{\\partial u_{\\theta}(t, x) }{\\partial t} + F[u_{\\theta}(t, x)]||^{2}] \\\\\n",
    "&+ \\mathbb{E}_{t, x \\sim {U_{[0, T]\\times \\partial\\Omega}}}[|| u_\\theta(t, x) - g(t, x)||^2] \\\\\n",
    "&+ \\mathbb{E}_{t, x \\sim {U_{\\{0\\}\\times \\Omega}}}[|| u_\\theta(t, x) - u_0(x)||^2] \n",
    "\\end{aligned}$$\n",
    "\n",
    "最小化优化函数相当于让$u_{\\theta}(t, x)$尽量满足偏微分方程、初始条件和边界条件。在具体优化时，不能直接对期望损失函数进行优化，只能在初始条件、边界条件函数和在整个定义域空间采样作为训练集构造**经验损失函数**(empirical loss function)。"
   ]
  },
  {
   "cell_type": "markdown",
   "metadata": {},
   "source": [
    "## 三、参考资料\n",
    "[1] [https://zhuanlan.zhihu.com/p/359328643](https://zhuanlan.zhihu.com/p/359328643)"
   ]
  }
 ],
 "metadata": {
  "kernelspec": {
   "display_name": "Python 3",
   "language": "python",
   "name": "python3"
  },
  "language_info": {
   "codemirror_mode": {
    "name": "ipython",
    "version": 3
   },
   "file_extension": ".py",
   "mimetype": "text/x-python",
   "name": "python",
   "nbconvert_exporter": "python",
   "pygments_lexer": "ipython3",
   "version": "3.7.6"
  }
 },
 "nbformat": 4,
 "nbformat_minor": 4
}
