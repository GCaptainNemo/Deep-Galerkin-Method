{
 "cells": [
  {
   "cell_type": "markdown",
   "metadata": {},
   "source": [
    "# 神经网络解常微分方程例子"
   ]
  },
  {
   "cell_type": "code",
   "execution_count": 32,
   "metadata": {},
   "outputs": [],
   "source": [
    "from ode_example.model import *\n",
    "from ode_example.data import *\n",
    "from ode_example.criterion import *\n",
    "from ode_example.train import *"
   ]
  },
  {
   "cell_type": "code",
   "execution_count": 35,
   "metadata": {},
   "outputs": [
    {
     "name": "stdout",
     "output_type": "stream",
     "text": [
      "Using matplotlib backend: Qt5Agg\n",
      "Populating the interactive namespace from numpy and matplotlib\n",
      "Warning: Cannot change to a different GUI toolkit: qt5. Using qt instead.\n"
     ]
    }
   ],
   "source": [
    "%pylab\n",
    "%matplotlib qt5"
   ]
  },
  {
   "cell_type": "code",
   "execution_count": 36,
   "metadata": {},
   "outputs": [
    {
     "name": "stdout",
     "output_type": "stream",
     "text": [
      "Step 49 - lr 0.0001 -  loss: 232.63445220947267\n",
      "Step 99 - lr 0.0001 -  loss: 227.4049853515625\n",
      "Step 149 - lr 0.0001 -  loss: 223.38107330322265\n",
      "Step 199 - lr 0.0001 -  loss: 219.47606689453124\n",
      "Step 249 - lr 0.0001 -  loss: 215.21388610839844\n",
      "Step 299 - lr 0.0001 -  loss: 211.1217874145508\n",
      "Step 349 - lr 0.0001 -  loss: 207.35233276367188\n",
      "Step 399 - lr 0.0001 -  loss: 203.07132415771486\n",
      "Step 449 - lr 0.0001 -  loss: 199.7158172607422\n",
      "Step 499 - lr 0.0001 -  loss: 195.8965921020508\n",
      "Step 549 - lr 0.0001 -  loss: 192.22187896728516\n",
      "Step 599 - lr 0.0001 -  loss: 188.68462341308594\n",
      "Step 649 - lr 0.0001 -  loss: 185.2532928466797\n",
      "Step 699 - lr 0.0001 -  loss: 181.96983978271484\n",
      "Step 749 - lr 0.0001 -  loss: 178.5954150390625\n",
      "Step 799 - lr 0.0001 -  loss: 175.53582336425782\n",
      "Step 849 - lr 0.0001 -  loss: 172.32372131347657\n",
      "Step 899 - lr 0.0001 -  loss: 169.27655853271483\n",
      "Step 949 - lr 0.0001 -  loss: 166.34354370117188\n",
      "Step 999 - lr 0.0001 -  loss: 163.23002288818358\n",
      "Step 1049 - lr 0.0001 -  loss: 160.23546264648436\n",
      "Step 1099 - lr 0.0001 -  loss: 157.34240325927735\n",
      "Step 1149 - lr 0.0001 -  loss: 154.37902069091797\n",
      "Step 1199 - lr 0.0001 -  loss: 151.49429809570313\n",
      "Step 1249 - lr 0.0001 -  loss: 148.469462890625\n",
      "Step 1299 - lr 0.0001 -  loss: 145.72907989501954\n",
      "Step 1349 - lr 0.0001 -  loss: 142.9482583618164\n",
      "Step 1399 - lr 0.0001 -  loss: 140.11280548095704\n",
      "Step 1449 - lr 0.0001 -  loss: 137.0484454345703\n",
      "Step 1499 - lr 0.0001 -  loss: 134.40765533447265\n",
      "Step 1549 - lr 0.0001 -  loss: 131.209249420166\n",
      "Step 1599 - lr 0.0001 -  loss: 128.26390625\n",
      "Step 1649 - lr 0.0001 -  loss: 125.14106658935548\n",
      "Step 1699 - lr 0.0001 -  loss: 122.34620468139649\n",
      "Step 1749 - lr 0.0001 -  loss: 119.05937896728516\n",
      "Step 1799 - lr 0.0001 -  loss: 115.64114456176758\n",
      "Step 1849 - lr 0.0001 -  loss: 112.69732345581055\n",
      "Step 1899 - lr 0.0001 -  loss: 108.98177474975586\n",
      "Step 1949 - lr 0.0001 -  loss: 105.58083694458008\n",
      "Step 1999 - lr 0.0001 -  loss: 101.56336105346679\n",
      "Step 2049 - lr 0.0001 -  loss: 97.4022280883789\n",
      "Step 2099 - lr 0.0001 -  loss: 92.18761901855468\n",
      "Step 2149 - lr 0.0001 -  loss: 87.40637786865234\n",
      "Step 2199 - lr 0.0001 -  loss: 80.4861686706543\n",
      "Step 2249 - lr 0.0001 -  loss: 72.62096282958984\n",
      "Step 2299 - lr 0.0001 -  loss: 60.85566146850586\n",
      "Step 2349 - lr 0.0001 -  loss: 45.2567073059082\n",
      "Step 2399 - lr 0.0001 -  loss: 39.443727264404295\n",
      "Step 2449 - lr 0.0001 -  loss: 37.579169921875\n",
      "Step 2499 - lr 0.0001 -  loss: 35.83954406738281\n",
      "Step 2549 - lr 0.0001 -  loss: 34.17664810180664\n",
      "Step 2599 - lr 0.0001 -  loss: 32.62108139038086\n",
      "Step 2649 - lr 0.0001 -  loss: 31.136090507507323\n",
      "Step 2699 - lr 0.0001 -  loss: 29.732926864624023\n",
      "Step 2749 - lr 0.0001 -  loss: 28.380955352783204\n",
      "Step 2799 - lr 0.0001 -  loss: 27.096513671875\n",
      "Step 2849 - lr 0.0001 -  loss: 25.87291763305664\n",
      "Step 2899 - lr 0.0001 -  loss: 24.697813301086427\n",
      "Step 2949 - lr 0.0001 -  loss: 23.587282752990724\n",
      "Step 2999 - lr 0.0001 -  loss: 22.51533302307129\n",
      "Step 3049 - lr 0.0001 -  loss: 21.48416172027588\n",
      "Step 3099 - lr 0.0001 -  loss: 20.505525970458983\n",
      "Step 3149 - lr 0.0001 -  loss: 19.56353328704834\n",
      "Step 3199 - lr 0.0001 -  loss: 18.66447334289551\n",
      "Step 3249 - lr 0.0001 -  loss: 17.80523696899414\n",
      "Step 3299 - lr 0.0001 -  loss: 17.00041229248047\n",
      "Step 3349 - lr 0.0001 -  loss: 16.195003452301027\n",
      "Step 3399 - lr 0.0001 -  loss: 15.448723030090331\n",
      "Step 3449 - lr 0.0001 -  loss: 14.729907913208008\n",
      "Step 3499 - lr 0.0001 -  loss: 14.072360458374023\n",
      "Step 3549 - lr 0.0001 -  loss: 13.408159427642822\n",
      "Step 3599 - lr 0.0001 -  loss: 12.78089656829834\n",
      "Step 3649 - lr 0.0001 -  loss: 12.20791172027588\n",
      "Step 3699 - lr 0.0001 -  loss: 11.641680240631104\n",
      "Step 3749 - lr 0.0001 -  loss: 11.093306198120118\n",
      "Step 3799 - lr 0.0001 -  loss: 10.61268190383911\n",
      "Step 3849 - lr 0.0001 -  loss: 10.139123058319091\n",
      "Step 3899 - lr 0.0001 -  loss: 9.736736087799072\n",
      "Step 3949 - lr 0.0001 -  loss: 9.38884334564209\n",
      "Step 3999 - lr 0.0001 -  loss: 8.984569549560547\n",
      "Step 4049 - lr 0.0001 -  loss: 8.587486457824706\n",
      "Step 4099 - lr 0.0001 -  loss: 8.268986835479737\n",
      "Step 4149 - lr 0.0001 -  loss: 7.942381067276001\n",
      "Step 4199 - lr 0.0001 -  loss: 7.6937082004547115\n",
      "Step 4249 - lr 0.0001 -  loss: 7.396913862228393\n",
      "Step 4299 - lr 0.0001 -  loss: 7.121795234680175\n",
      "Step 4349 - lr 0.0001 -  loss: 6.961058015823364\n",
      "Step 4399 - lr 0.0001 -  loss: 6.722438220977783\n",
      "Step 4449 - lr 0.0001 -  loss: 6.455729389190674\n",
      "Step 4499 - lr 0.0001 -  loss: 6.272723789215088\n",
      "Step 4549 - lr 0.0001 -  loss: 6.197899570465088\n",
      "Step 4599 - lr 0.0001 -  loss: 6.500022497177124\n",
      "Step 4649 - lr 0.0001 -  loss: 5.858188791275024\n",
      "Step 4699 - lr 0.0001 -  loss: 5.654968242645264\n",
      "Step 4749 - lr 0.0001 -  loss: 5.472200355529785\n",
      "Step 4799 - lr 0.0001 -  loss: 5.376724290847778\n",
      "Step 4849 - lr 0.0001 -  loss: 5.317012758255005\n",
      "Step 4899 - lr 0.0001 -  loss: 5.306297740936279\n",
      "Step 4949 - lr 0.0001 -  loss: 4.9452547836303715\n",
      "Step 4999 - lr 0.0001 -  loss: 4.874209032058716\n"
     ]
    }
   ],
   "source": [
    "model = ApproxSolve(15, 2) # 10 layer 2 node\n",
    "# model = torch.load(\"model.pth\")\n",
    "data_sampler = DataSampler(100, 1)  # 100 data, 10 boundary data\n",
    "criterion = Criterion(model, data_sampler)\n",
    "\n",
    "train = Train(criterion)\n",
    "train.train(5000, 1e-4)\n",
    "\n",
    "torch.save(model, 'model.pth')\n"
   ]
  },
  {
   "cell_type": "code",
   "execution_count": 33,
   "metadata": {},
   "outputs": [
    {
     "name": "stdout",
     "output_type": "stream",
     "text": [
      "Using matplotlib backend: Qt5Agg\n",
      "Populating the interactive namespace from numpy and matplotlib\n"
     ]
    }
   ],
   "source": []
  },
  {
   "cell_type": "code",
   "execution_count": 34,
   "metadata": {},
   "outputs": [
    {
     "name": "stdout",
     "output_type": "stream",
     "text": [
      "Warning: Cannot change to a different GUI toolkit: qt5. Using qt instead.\n"
     ]
    }
   ],
   "source": []
  },
  {
   "cell_type": "code",
   "execution_count": null,
   "metadata": {},
   "outputs": [],
   "source": []
  }
 ],
 "metadata": {
  "kernelspec": {
   "display_name": "Python 3",
   "language": "python",
   "name": "python3"
  },
  "language_info": {
   "codemirror_mode": {
    "name": "ipython",
    "version": 3
   },
   "file_extension": ".py",
   "mimetype": "text/x-python",
   "name": "python",
   "nbconvert_exporter": "python",
   "pygments_lexer": "ipython3",
   "version": "3.7.6"
  }
 },
 "nbformat": 4,
 "nbformat_minor": 4
}
